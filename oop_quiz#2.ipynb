{
 "cells": [
  {
   "cell_type": "code",
   "execution_count": null,
   "id": "be699f57",
   "metadata": {},
   "outputs": [],
   "source": [
    "class circle:\n",
    "    def __init__(self, radius=3):\n",
    "        self.radius = radius\n",
    "        self.area = 3.14 * self.radius**2\n",
    "        print(f'The radius of your newly created circle is: {radius}')\n",
    "    \n",
    "    def getArea(self):\n",
    "        return self.area"
   ]
  },
  {
   "cell_type": "markdown",
   "id": "4d34b5d3",
   "metadata": {},
   "source": [
    "The __init__ method is automatically called when a new instance of an object is created:"
   ]
  },
  {
   "cell_type": "code",
   "execution_count": null,
   "id": "84429a21",
   "metadata": {},
   "outputs": [],
   "source": [
    "my_circle = circle()"
   ]
  },
  {
   "cell_type": "markdown",
   "id": "78e09ae5",
   "metadata": {},
   "source": [
    "The area is stored in the 'self.area' field, which is computed in the __init__ method:"
   ]
  },
  {
   "cell_type": "code",
   "execution_count": null,
   "id": "4dfbe518",
   "metadata": {},
   "outputs": [],
   "source": [
    "my_circle.getArea()"
   ]
  },
  {
   "cell_type": "markdown",
   "id": "c4ba07f9",
   "metadata": {},
   "source": [
    "The __init__ method is known as a 'dunder' or __D__ ouble __under__ method. There are other dunder, AKA magic, methods that can be defined in the class. For example, to be able to add circles using the '+' operator:"
   ]
  },
  {
   "cell_type": "code",
   "execution_count": null,
   "id": "08f9f0d0",
   "metadata": {},
   "outputs": [],
   "source": [
    "circle(5) + circle(3)"
   ]
  },
  {
   "cell_type": "code",
   "execution_count": null,
   "id": "796322b1",
   "metadata": {},
   "outputs": [],
   "source": [
    "class circle:\n",
    "    def __init__(self, radius=3):\n",
    "        self.radius = radius\n",
    "        self.area = 3.14 * self.radius**2\n",
    "        print(f'The radius of your newly created circle is: {radius}')\n",
    "    \n",
    "    def __add__(self, other):\n",
    "        return self.radius + other.radius\n",
    "    \n",
    "    def getArea(self):\n",
    "        return self.area"
   ]
  },
  {
   "cell_type": "code",
   "execution_count": null,
   "id": "86913ba3",
   "metadata": {},
   "outputs": [],
   "source": [
    "circle(5) + circle(3)"
   ]
  },
  {
   "cell_type": "code",
   "execution_count": null,
   "id": "fd341689",
   "metadata": {},
   "outputs": [],
   "source": [
    "mycircle = circle(8)\n",
    "print(mycircle)"
   ]
  },
  {
   "cell_type": "code",
   "execution_count": null,
   "id": "eb64e3ae",
   "metadata": {},
   "outputs": [],
   "source": [
    "class circle:\n",
    "    def __init__(self, radius=3):\n",
    "        self.radius = radius\n",
    "        self.area = 3.14 * self.radius**2\n",
    "        print(f'The radius of your newly created circle is: {radius}')\n",
    "    \n",
    "    def __add__(self, other):\n",
    "        return self.radius + other.radius\n",
    "    \n",
    "    def __str__(self):\n",
    "        return str(self.radius)\n",
    "    \n",
    "    def getArea(self):\n",
    "        return self.area"
   ]
  },
  {
   "cell_type": "code",
   "execution_count": null,
   "id": "8cd22dbf",
   "metadata": {},
   "outputs": [],
   "source": [
    "print(circle(8))"
   ]
  },
  {
   "cell_type": "code",
   "execution_count": null,
   "id": "a5d0bd9a",
   "metadata": {},
   "outputs": [],
   "source": []
  }
 ],
 "metadata": {
  "kernelspec": {
   "display_name": "Python 3",
   "language": "python",
   "name": "python3"
  },
  "language_info": {
   "codemirror_mode": {
    "name": "ipython",
    "version": 3
   },
   "file_extension": ".py",
   "mimetype": "text/x-python",
   "name": "python",
   "nbconvert_exporter": "python",
   "pygments_lexer": "ipython3",
   "version": "3.8.8"
  }
 },
 "nbformat": 4,
 "nbformat_minor": 5
}
